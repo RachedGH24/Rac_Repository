{
 "cells": [
  {
   "cell_type": "markdown",
   "id": "90a0368e-9b9a-48d0-802f-f1c49bb5690d",
   "metadata": {
    "jupyter": {
     "source_hidden": true
    }
   },
   "source": [
    "# Data Science Tools and Ecosystem "
   ]
  },
  {
   "cell_type": "markdown",
   "id": "3c4fcb3a-0e86-4ed7-8e7e-1fdcd3112c8f",
   "metadata": {},
   "source": [
    "In this notebook, Data Science Tools and Ecosystem are summarized.\n"
   ]
  },
  {
   "cell_type": "markdown",
   "id": "ec8d2e36-16e0-48a8-b2fe-ff4e2637e31c",
   "metadata": {},
   "source": [
    "**Objectives**\n",
    "- List popular languages for Data Science\n",
    "- Some of the commonly used libraries used by Data Scientists include\n",
    "- A few examples of evaluating arithmetic expressions in Python\n",
    "- Data Science Tools\n",
    "- Create a code cell to convert minutes to hours\n",
    "\n"
   ]
  },
  {
   "cell_type": "markdown",
   "id": "2b3b8a93-644d-4bf4-8df4-148995d83193",
   "metadata": {},
   "source": [
    "Some of the popular languages that Data Scientists use are:\n",
    "1. Python\n",
    "2. R\n",
    "3. SQL\n",
    "4. Julia\n",
    "5. Go\n",
    "   "
   ]
  },
  {
   "cell_type": "markdown",
   "id": "d76163c6-0cce-4a51-b064-cdf0d0a5d4fd",
   "metadata": {},
   "source": [
    "Some of the commonly used libraries used by Data Scientists include:\n",
    "\n",
    "1. Pandas\n",
    "2. Numpy\n",
    "3. matplotlib\n",
    "4. seaborn\n",
    "5. scikit-lern"
   ]
  },
  {
   "cell_type": "markdown",
   "id": "65323892-77cb-412d-971d-4e700a73015b",
   "metadata": {},
   "source": [
    "|Data Science Tools    |\n",
    "|----------------------|\n",
    "|Jupyter               |\n",
    "|RStudio               |\n",
    "|Spyder                |\n",
    "|----------------------|r\r\n",
    "\n",
    "\n"
   ]
  },
  {
   "cell_type": "markdown",
   "id": "ad3649cb-cd90-4252-8aca-c89e441a3c03",
   "metadata": {},
   "source": [
    "### Below are a few examples of evaluating arithmetic expressions in Python\n",
    "\n"
   ]
  },
  {
   "cell_type": "code",
   "execution_count": 5,
   "id": "c469369e-ae4f-4281-a674-17e402160735",
   "metadata": {},
   "outputs": [
    {
     "data": {
      "text/plain": [
       "17"
      ]
     },
     "execution_count": 5,
     "metadata": {},
     "output_type": "execute_result"
    }
   ],
   "source": [
    "# This a simple arithmetic expression to mutiply then add integers\n",
    "(3*4)+5"
   ]
  },
  {
   "cell_type": "code",
   "execution_count": 15,
   "id": "9942b165-d1d0-4a5f-888e-84baa0497d50",
   "metadata": {},
   "outputs": [
    {
     "name": "stdout",
     "output_type": "stream",
     "text": [
      "200 minutes est égale à  3 heures 20  minutes\n"
     ]
    }
   ],
   "source": [
    "# This will convert 200 minutes to hours by diving by 60\n",
    "h = 200 // 60\n",
    "m = 200 % 60\n",
    "print(200, 'minutes est égale à ' , h , 'heures', m , ' minutes')\n"
   ]
  },
  {
   "cell_type": "markdown",
   "id": "e8cb40c3-2b85-4344-96d0-c7419bbb5596",
   "metadata": {},
   "source": [
    "## Author\n",
    "Rached Douari"
   ]
  },
  {
   "cell_type": "code",
   "execution_count": null,
   "id": "c4f3cf35-eaa7-4151-af2e-a120d2b0d849",
   "metadata": {},
   "outputs": [],
   "source": []
  }
 ],
 "metadata": {
  "kernelspec": {
   "display_name": "Python 3 (ipykernel)",
   "language": "python",
   "name": "python3"
  },
  "language_info": {
   "codemirror_mode": {
    "name": "ipython",
    "version": 3
   },
   "file_extension": ".py",
   "mimetype": "text/x-python",
   "name": "python",
   "nbconvert_exporter": "python",
   "pygments_lexer": "ipython3",
   "version": "3.12.4"
  }
 },
 "nbformat": 4,
 "nbformat_minor": 5
}
